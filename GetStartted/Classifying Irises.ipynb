{
 "cells": [
  {
   "cell_type": "code",
   "execution_count": 2,
   "metadata": {},
   "outputs": [],
   "source": [
    "import tensorflow as tf\n",
    "import numpy as np\n",
    "import pandas as pd"
   ]
  },
  {
   "cell_type": "markdown",
   "metadata": {},
   "source": [
    "An **input function** is a function that returns the following two-element tuple:\n",
    "+ \"features\" - A Python dictionary in which:\n",
    " + Each key is the name of a feature.\n",
    " + Each value is an array containing all of that feature's values.\n",
    "+ \"label\" - An array containing the values of the label for every example."
   ]
  },
  {
   "cell_type": "code",
   "execution_count": 3,
   "metadata": {},
   "outputs": [
    {
     "name": "stdout",
     "output_type": "stream",
     "text": [
      "{'SepalLength': array([6.4, 5. ]), 'SepalWidth': array([2.8, 2.3]), 'PetalLength': array([5.6, 3.3]), 'PetalWidth': array([2.2, 1. ])}\n",
      "[2 1]\n"
     ]
    }
   ],
   "source": [
    "# Input function\n",
    "def input_evaluation_set():\n",
    "    features = {'SepalLength': np.array([6.4, 5.0]),\n",
    "                'SepalWidth':  np.array([2.8, 2.3]),\n",
    "                'PetalLength': np.array([5.6, 3.3]),\n",
    "                'PetalWidth':  np.array([2.2, 1.0])}\n",
    "    labels = np.array([2, 1])\n",
    "    return features, labels\n",
    "features, labels = input_evaluation_set()\n",
    "print(features)\n",
    "print(labels)"
   ]
  },
  {
   "cell_type": "markdown",
   "metadata": {},
   "source": [
    "# The Getting Started Example"
   ]
  },
  {
   "cell_type": "code",
   "execution_count": 4,
   "metadata": {},
   "outputs": [
    {
     "name": "stdout",
     "output_type": "stream",
     "text": [
      "Downloading data from http://download.tensorflow.org/data/iris_training.csv\n",
      "8192/2194 [================================================================================================================]8192/2194 [================================================================================================================] - 0s 0us/step\n",
      "\n",
      "Downloading data from http://download.tensorflow.org/data/iris_test.csv\n",
      "8192/573 [============================================================================================================================================================================================================================================================================================================================================================================================================================================]8192/573 [============================================================================================================================================================================================================================================================================================================================================================================================================================================] - 0s 0us/step\n",
      "\n",
      "train_path: C:\\Users\\Slash\\.keras\\datasets\\iris_training.csv\n",
      "test_path C:\\Users\\Slash\\.keras\\datasets\\iris_test.csv\n"
     ]
    }
   ],
   "source": [
    "TRAIN_URL = \"http://download.tensorflow.org/data/iris_training.csv\"\n",
    "TEST_URL = \"http://download.tensorflow.org/data/iris_test.csv\"\n",
    "\n",
    "CSV_COLUMN_NAMES = ['SepalLength', 'SepalWidth',\n",
    "                    'PetalLength', 'PetalWidth', 'Species']\n",
    "SPECIES = ['Setosa', 'Versicolor', 'Virginica']\n",
    "def maybe_download():\n",
    "    train_path = tf.keras.utils.get_file(TRAIN_URL.split('/')[-1], TRAIN_URL)\n",
    "    test_path = tf.keras.utils.get_file(TEST_URL.split('/')[-1], TEST_URL)\n",
    "\n",
    "    return train_path, test_path\n",
    "train_path, test_path = maybe_download()\n",
    "print('train_path:', train_path)\n",
    "print('test_path', test_path)"
   ]
  },
  {
   "cell_type": "code",
   "execution_count": 25,
   "metadata": {},
   "outputs": [],
   "source": [
    "# Load the Iris dataset\n",
    "def load_data(y_name='Species'):    \n",
    "    train_path, test_path = maybe_download()\n",
    "    train = pd.read_csv(train_path, names=CSV_COLUMN_NAMES, header=0)\n",
    "    train_x, train_y = train, train.pop(y_name)\n",
    "    \n",
    "    test = pd.read_csv(test_path, names=CSV_COLUMN_NAMES, header=0)\n",
    "    test_x, test_y = test, test.pop(y_name)\n",
    "    \n",
    "    return (train_x, train_y), (test_x, test_y)"
   ]
  },
  {
   "cell_type": "code",
   "execution_count": 26,
   "metadata": {
    "collapsed": true
   },
   "outputs": [],
   "source": [
    "# Input function for training\n",
    "def train_input_fn(features, labels, batch_size):\n",
    "    dataset = tf.data.Dataset.from_tensor_slices((dict(features), labels))\n",
    "    dataset = dataset.shuffle(1000).repeat().batch(batch_size)\n",
    "    return dataset\n",
    "# For test\n",
    "#(train_x, train_y), (test_x, test_y) = load_data()\n",
    "#dict(train_x)[CSV_COLUMN_NAMES[0]][:5]"
   ]
  },
  {
   "cell_type": "code",
   "execution_count": 27,
   "metadata": {},
   "outputs": [],
   "source": [
    "# Input function for evealuation or prediction\n",
    "def eval_input_fn(features, labels, batch_size):\n",
    "    features = dict(features)\n",
    "    if labels is None:\n",
    "        inputs = features\n",
    "    else:\n",
    "        inputs = (features, labels)\n",
    "    \n",
    "    dataset = tf.data.Dataset.from_tensor_slices(inputs)\n",
    "    assert batch_size is not None, 'batch_size must not be None'\n",
    "    dataset = dataset.batch(batch_size)\n",
    "    \n",
    "    return dataset"
   ]
  },
  {
   "cell_type": "code",
   "execution_count": 24,
   "metadata": {},
   "outputs": [
    {
     "data": {
      "text/plain": [
       "Index(['SepalLength', 'SepalWidth', 'PetalLength', 'PetalWidth'], dtype='object')"
      ]
     },
     "execution_count": 24,
     "metadata": {},
     "output_type": "execute_result"
    }
   ],
   "source": []
  },
  {
   "cell_type": "code",
   "execution_count": 41,
   "metadata": {},
   "outputs": [],
   "source": [
    "# The model\n",
    "\n",
    "batch_size = 100\n",
    "train_steps = 1000\n",
    "\n",
    "def main(argv):\n",
    "    (train_x, train_y), (test_x, test_y) = load_data()\n",
    "\n",
    "    # features columns describe how to use the input.\n",
    "    my_feature_columns = []\n",
    "    for key in train_x.keys(): # key is column name\n",
    "        my_feature_columns.append(tf.feature_column.numeric_column(key=key))\n",
    "\n",
    "    # Build 2 hidden layer DNN with 10, 10 units respectively\n",
    "    classifier = tf.estimator.DNNClassifier(feature_columns=my_feature_columns,\n",
    "                                           hidden_units=[10, 10],\n",
    "                                           n_classes=3)\n",
    "    # Train the Model\n",
    "    classifier.train(input_fn=lambda:train_input_fn(train_x, train_y, batch_size),\n",
    "                    steps=train_steps)\n",
    "    # Evaluate the Model\n",
    "    eval_result = classifier.evaluate(input_fn=lambda:eval_input_fn(test_x, test_y, batch_size))\n",
    "\n",
    "    print('\\nTest set accuracy:{accuracy:0.3f}\\n'.format(**eval_result))\n",
    "    \n",
    "    # Generate predictions from the model\n",
    "    expected = ['Setosa', 'Versicolor', 'Virginica']\n",
    "    predict_x = {\n",
    "        'SepalLength': [5.1, 5.9, 6.9],\n",
    "        'SepalWidth': [3.3, 3.0, 3.1],\n",
    "        'PetalLength': [1.7, 4.2, 5.4],\n",
    "        'PetalWidth': [0.5, 1.5, 2.1],\n",
    "    }\n",
    "\n",
    "    predictions = classifier.predict(input_fn=lambda:eval_input_fn(predict_x, labels=None, batch_size=batch_size))\n",
    "    \n",
    "    for pred_dict, expec in zip(predictions, expected):\n",
    "        print('Pred_dict:', pred_dict)\n",
    "        print('expec', expec)\n",
    "        template = ('\\nPrediction is \"{}\" ({:.1f}%), expected \"{}\"')\n",
    "\n",
    "        class_id = pred_dict['class_ids'][0] # predict class\n",
    "        probability = pred_dict['probabilities'][class_id] # the probability of predict class\n",
    "\n",
    "        print(template.format(SPECIES[class_id], 100 * probability, expec))"
   ]
  },
  {
   "cell_type": "code",
   "execution_count": 42,
   "metadata": {},
   "outputs": [
    {
     "name": "stdout",
     "output_type": "stream",
     "text": [
      "INFO:tensorflow:Using default config.\n",
      "WARNING:tensorflow:Using temporary folder as model directory: C:\\Users\\Slash\\AppData\\Local\\Temp\\tmp58th21lc\n",
      "INFO:tensorflow:Using config: {'_model_dir': 'C:\\\\Users\\\\Slash\\\\AppData\\\\Local\\\\Temp\\\\tmp58th21lc', '_tf_random_seed': None, '_save_summary_steps': 100, '_save_checkpoints_steps': None, '_save_checkpoints_secs': 600, '_session_config': None, '_keep_checkpoint_max': 5, '_keep_checkpoint_every_n_hours': 10000, '_log_step_count_steps': 100, '_service': None, '_cluster_spec': <tensorflow.python.training.server_lib.ClusterSpec object at 0x000001F4D8ED3048>, '_task_type': 'worker', '_task_id': 0, '_master': '', '_is_chief': True, '_num_ps_replicas': 0, '_num_worker_replicas': 1}\n",
      "INFO:tensorflow:Create CheckpointSaverHook.\n",
      "INFO:tensorflow:Saving checkpoints for 1 into C:\\Users\\Slash\\AppData\\Local\\Temp\\tmp58th21lc\\model.ckpt.\n",
      "INFO:tensorflow:loss = 204.07692, step = 1\n",
      "INFO:tensorflow:global_step/sec: 191.904\n",
      "INFO:tensorflow:loss = 21.336067, step = 101 (0.524 sec)\n",
      "INFO:tensorflow:global_step/sec: 211.08\n",
      "INFO:tensorflow:loss = 10.357854, step = 201 (0.473 sec)\n",
      "INFO:tensorflow:global_step/sec: 219.298\n",
      "INFO:tensorflow:loss = 8.8040085, step = 301 (0.455 sec)\n",
      "INFO:tensorflow:global_step/sec: 190.878\n",
      "INFO:tensorflow:loss = 7.886395, step = 401 (0.526 sec)\n",
      "INFO:tensorflow:global_step/sec: 217.619\n",
      "INFO:tensorflow:loss = 8.590421, step = 501 (0.461 sec)\n",
      "INFO:tensorflow:global_step/sec: 218.508\n",
      "INFO:tensorflow:loss = 6.6202416, step = 601 (0.455 sec)\n",
      "INFO:tensorflow:global_step/sec: 222.534\n",
      "INFO:tensorflow:loss = 6.424607, step = 701 (0.450 sec)\n",
      "INFO:tensorflow:global_step/sec: 226.409\n",
      "INFO:tensorflow:loss = 5.9213557, step = 801 (0.442 sec)\n",
      "INFO:tensorflow:global_step/sec: 211.071\n",
      "INFO:tensorflow:loss = 6.0197906, step = 901 (0.474 sec)\n",
      "INFO:tensorflow:Saving checkpoints for 1000 into C:\\Users\\Slash\\AppData\\Local\\Temp\\tmp58th21lc\\model.ckpt.\n",
      "INFO:tensorflow:Loss for final step: 7.1569033.\n",
      "INFO:tensorflow:Starting evaluation at 2018-03-12-06:15:41\n",
      "INFO:tensorflow:Restoring parameters from C:\\Users\\Slash\\AppData\\Local\\Temp\\tmp58th21lc\\model.ckpt-1000\n",
      "INFO:tensorflow:Finished evaluation at 2018-03-12-06:15:42\n",
      "INFO:tensorflow:Saving dict for global step 1000: accuracy = 0.96666664, average_loss = 0.065664336, global_step = 1000, loss = 1.96993\n",
      "\n",
      "Test set accuracy:0.967\n",
      "\n",
      "INFO:tensorflow:Restoring parameters from C:\\Users\\Slash\\AppData\\Local\\Temp\\tmp58th21lc\\model.ckpt-1000\n",
      "Pred_dict: {'logits': array([  9.406845,   4.718647, -22.124212], dtype=float32), 'probabilities': array([9.9088073e-01, 9.1193281e-03, 2.0056592e-14], dtype=float32), 'class_ids': array([0], dtype=int64), 'classes': array([b'0'], dtype=object)}\n",
      "expec Setosa\n",
      "\n",
      "Prediction is \"Setosa\" (99.1%), expected \"Setosa\"\n",
      "Pred_dict: {'logits': array([-4.679474 ,  3.7734008, -1.2612804], dtype=float32), 'probabilities': array([2.1186227e-04, 9.9332339e-01, 6.4648185e-03], dtype=float32), 'class_ids': array([1], dtype=int64), 'classes': array([b'1'], dtype=object)}\n",
      "expec Versicolor\n",
      "\n",
      "Prediction is \"Versicolor\" (99.3%), expected \"Versicolor\"\n",
      "Pred_dict: {'logits': array([-10.826032 ,   3.7251205,   8.1999655], dtype=float32), 'probabilities': array([5.3975278e-09, 1.1263672e-02, 9.8873633e-01], dtype=float32), 'class_ids': array([2], dtype=int64), 'classes': array([b'2'], dtype=object)}\n",
      "expec Virginica\n",
      "\n",
      "Prediction is \"Virginica\" (98.9%), expected \"Virginica\"\n"
     ]
    },
    {
     "ename": "SystemExit",
     "evalue": "",
     "output_type": "error",
     "traceback": [
      "An exception has occurred, use %tb to see the full traceback.\n",
      "\u001b[1;31mSystemExit\u001b[0m\n"
     ]
    },
    {
     "name": "stderr",
     "output_type": "stream",
     "text": [
      "D:\\ProgramData\\Anaconda3\\lib\\site-packages\\IPython\\core\\interactiveshell.py:2870: UserWarning: To exit: use 'exit', 'quit', or Ctrl-D.\n",
      "  warn(\"To exit: use 'exit', 'quit', or Ctrl-D.\", stacklevel=1)\n"
     ]
    }
   ],
   "source": [
    "tf.app.run(main)"
   ]
  },
  {
   "cell_type": "code",
   "execution_count": null,
   "metadata": {
    "collapsed": true
   },
   "outputs": [],
   "source": []
  }
 ],
 "metadata": {
  "kernelspec": {
   "display_name": "Python 3",
   "language": "python",
   "name": "python3"
  },
  "language_info": {
   "codemirror_mode": {
    "name": "ipython",
    "version": 3
   },
   "file_extension": ".py",
   "mimetype": "text/x-python",
   "name": "python",
   "nbconvert_exporter": "python",
   "pygments_lexer": "ipython3",
   "version": "3.6.2"
  },
  "toc": {
   "nav_menu": {},
   "number_sections": true,
   "sideBar": true,
   "skip_h1_title": false,
   "toc_cell": false,
   "toc_position": {},
   "toc_section_display": "block",
   "toc_window_display": false
  }
 },
 "nbformat": 4,
 "nbformat_minor": 2
}
